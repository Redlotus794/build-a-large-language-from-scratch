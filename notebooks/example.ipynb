{
 "cells": [
  {
   "cell_type": "code",
   "execution_count": null,
   "id": "9f0aeb358d093ff6",
   "metadata": {},
   "outputs": [],
   "source": [
    "# 欢迎来到我的 JupyterBook 示例\n",
    "\n",
    "这是一个用 JupyterBook 构建的交互式文档，包含文字说明和可运行的代码。\n",
    "\n",
    "## 什么是 JupyterBook？\n",
    "JupyterBook 可以将 Markdown 文档和 Jupyter 笔记本组合成结构化的电子书，支持：\n",
    "- 代码块自动运行并展示结果\n",
    "- 数学公式（如 $E=mc^2$）\n",
    "- 交叉引用和目录导航\n",
    "\n",
    "点击左侧目录可浏览其他内容。"
   ]
  }
 ],
 "metadata": {
  "language_info": {
   "name": "python"
  }
 },
 "nbformat": 4,
 "nbformat_minor": 5
}
